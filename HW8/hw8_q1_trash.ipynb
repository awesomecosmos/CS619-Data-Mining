{
 "cells": [
  {
   "cell_type": "code",
   "execution_count": 1,
   "metadata": {},
   "outputs": [],
   "source": [
    "import pandas as pd\n",
    "import numpy as np\n",
    "\n",
    "df = pd.read_csv('hw8_q1.csv')[:25]"
   ]
  },
  {
   "cell_type": "code",
   "execution_count": 2,
   "metadata": {},
   "outputs": [
    {
     "data": {
      "text/html": [
       "<div>\n",
       "<style scoped>\n",
       "    .dataframe tbody tr th:only-of-type {\n",
       "        vertical-align: middle;\n",
       "    }\n",
       "\n",
       "    .dataframe tbody tr th {\n",
       "        vertical-align: top;\n",
       "    }\n",
       "\n",
       "    .dataframe thead th {\n",
       "        text-align: right;\n",
       "    }\n",
       "</style>\n",
       "<table border=\"1\" class=\"dataframe\">\n",
       "  <thead>\n",
       "    <tr style=\"text-align: right;\">\n",
       "      <th></th>\n",
       "      <th>date</th>\n",
       "      <th>outlook</th>\n",
       "      <th>wind</th>\n",
       "      <th>playTennis</th>\n",
       "    </tr>\n",
       "  </thead>\n",
       "  <tbody>\n",
       "    <tr>\n",
       "      <th>20</th>\n",
       "      <td>21</td>\n",
       "      <td>Sunny</td>\n",
       "      <td>Weak</td>\n",
       "      <td>Yes</td>\n",
       "    </tr>\n",
       "    <tr>\n",
       "      <th>21</th>\n",
       "      <td>22</td>\n",
       "      <td>Overcast</td>\n",
       "      <td>Weak</td>\n",
       "      <td>No</td>\n",
       "    </tr>\n",
       "    <tr>\n",
       "      <th>22</th>\n",
       "      <td>23</td>\n",
       "      <td>Rain</td>\n",
       "      <td>Weak</td>\n",
       "      <td>Yes</td>\n",
       "    </tr>\n",
       "    <tr>\n",
       "      <th>23</th>\n",
       "      <td>24</td>\n",
       "      <td>Sunny</td>\n",
       "      <td>Strong</td>\n",
       "      <td>Yes</td>\n",
       "    </tr>\n",
       "    <tr>\n",
       "      <th>24</th>\n",
       "      <td>25</td>\n",
       "      <td>Overcast</td>\n",
       "      <td>Weak</td>\n",
       "      <td>No</td>\n",
       "    </tr>\n",
       "  </tbody>\n",
       "</table>\n",
       "</div>"
      ],
      "text/plain": [
       "    date   outlook    wind playTennis\n",
       "20    21     Sunny    Weak        Yes\n",
       "21    22  Overcast    Weak         No\n",
       "22    23      Rain    Weak        Yes\n",
       "23    24     Sunny  Strong        Yes\n",
       "24    25  Overcast    Weak         No"
      ]
     },
     "execution_count": 2,
     "metadata": {},
     "output_type": "execute_result"
    }
   ],
   "source": [
    "df.tail()"
   ]
  },
  {
   "cell_type": "markdown",
   "metadata": {},
   "source": [
    "We want to predict the classification for Instances #26, 27 and 28, and thus need to calculate the probabilities using the Naive Bayes approach for each of the following scenarios:\n",
    "- Sunny & Strong = P(Sunny|Yes),P(Sunny|No),P(Strong|Yes),P(Strong|No)\n",
    "- Overcast & Weak = P(Overcast|Yes),P(Overcast|No),P(Weak|Yes),P(Weak|No)\n",
    "- Rain & Weak = P(Rain|Yes),P(Rain|No),P(Weak|Yes),P(Weak|No)"
   ]
  },
  {
   "cell_type": "code",
   "execution_count": 30,
   "metadata": {},
   "outputs": [],
   "source": [
    "df_yes = df[df[\"playTennis\"]=='Yes']\n",
    "df_no = df[df[\"playTennis\"]=='No']\n",
    "p_classification = 0.5\n",
    "m = 1"
   ]
  },
  {
   "cell_type": "code",
   "execution_count": 48,
   "metadata": {},
   "outputs": [
    {
     "data": {
      "text/plain": [
       "0.072"
      ]
     },
     "execution_count": 48,
     "metadata": {},
     "output_type": "execute_result"
    }
   ],
   "source": [
    "# (5/15) * (6/15) * (15/25)\n",
    "# (5/15) * (9/15) * (15/25)\n",
    "# (5/15) * (9/15) * (15/25)\n",
    "# (4/10) * (4/10) * (10/25)\n",
    "(3/10) * (6/10) * (10/25)"
   ]
  },
  {
   "cell_type": "code",
   "execution_count": 41,
   "metadata": {},
   "outputs": [
    {
     "data": {
      "text/html": [
       "<div>\n",
       "<style scoped>\n",
       "    .dataframe tbody tr th:only-of-type {\n",
       "        vertical-align: middle;\n",
       "    }\n",
       "\n",
       "    .dataframe tbody tr th {\n",
       "        vertical-align: top;\n",
       "    }\n",
       "\n",
       "    .dataframe thead th {\n",
       "        text-align: right;\n",
       "    }\n",
       "</style>\n",
       "<table border=\"1\" class=\"dataframe\">\n",
       "  <thead>\n",
       "    <tr style=\"text-align: right;\">\n",
       "      <th></th>\n",
       "      <th>date</th>\n",
       "      <th>outlook</th>\n",
       "      <th>wind</th>\n",
       "      <th>playTennis</th>\n",
       "    </tr>\n",
       "  </thead>\n",
       "  <tbody>\n",
       "    <tr>\n",
       "      <th>2</th>\n",
       "      <td>3</td>\n",
       "      <td>Overcast</td>\n",
       "      <td>Weak</td>\n",
       "      <td>Yes</td>\n",
       "    </tr>\n",
       "    <tr>\n",
       "      <th>3</th>\n",
       "      <td>4</td>\n",
       "      <td>Rain</td>\n",
       "      <td>Weak</td>\n",
       "      <td>Yes</td>\n",
       "    </tr>\n",
       "    <tr>\n",
       "      <th>4</th>\n",
       "      <td>5</td>\n",
       "      <td>Rain</td>\n",
       "      <td>Weak</td>\n",
       "      <td>Yes</td>\n",
       "    </tr>\n",
       "    <tr>\n",
       "      <th>8</th>\n",
       "      <td>9</td>\n",
       "      <td>Sunny</td>\n",
       "      <td>Weak</td>\n",
       "      <td>Yes</td>\n",
       "    </tr>\n",
       "    <tr>\n",
       "      <th>9</th>\n",
       "      <td>10</td>\n",
       "      <td>Rain</td>\n",
       "      <td>Weak</td>\n",
       "      <td>Yes</td>\n",
       "    </tr>\n",
       "    <tr>\n",
       "      <th>12</th>\n",
       "      <td>13</td>\n",
       "      <td>Overcast</td>\n",
       "      <td>Weak</td>\n",
       "      <td>Yes</td>\n",
       "    </tr>\n",
       "    <tr>\n",
       "      <th>16</th>\n",
       "      <td>17</td>\n",
       "      <td>Overcast</td>\n",
       "      <td>Weak</td>\n",
       "      <td>Yes</td>\n",
       "    </tr>\n",
       "    <tr>\n",
       "      <th>20</th>\n",
       "      <td>21</td>\n",
       "      <td>Sunny</td>\n",
       "      <td>Weak</td>\n",
       "      <td>Yes</td>\n",
       "    </tr>\n",
       "    <tr>\n",
       "      <th>22</th>\n",
       "      <td>23</td>\n",
       "      <td>Rain</td>\n",
       "      <td>Weak</td>\n",
       "      <td>Yes</td>\n",
       "    </tr>\n",
       "  </tbody>\n",
       "</table>\n",
       "</div>"
      ],
      "text/plain": [
       "    date   outlook  wind playTennis\n",
       "2      3  Overcast  Weak        Yes\n",
       "3      4      Rain  Weak        Yes\n",
       "4      5      Rain  Weak        Yes\n",
       "8      9     Sunny  Weak        Yes\n",
       "9     10      Rain  Weak        Yes\n",
       "12    13  Overcast  Weak        Yes\n",
       "16    17  Overcast  Weak        Yes\n",
       "20    21     Sunny  Weak        Yes\n",
       "22    23      Rain  Weak        Yes"
      ]
     },
     "execution_count": 41,
     "metadata": {},
     "output_type": "execute_result"
    }
   ],
   "source": [
    "# df_yes[df_yes[\"outlook\"]=='Rain']\n",
    "df_yes[df_yes[\"wind\"]=='Weak']"
   ]
  },
  {
   "cell_type": "code",
   "execution_count": 43,
   "metadata": {},
   "outputs": [
    {
     "data": {
      "text/html": [
       "<div>\n",
       "<style scoped>\n",
       "    .dataframe tbody tr th:only-of-type {\n",
       "        vertical-align: middle;\n",
       "    }\n",
       "\n",
       "    .dataframe tbody tr th {\n",
       "        vertical-align: top;\n",
       "    }\n",
       "\n",
       "    .dataframe thead th {\n",
       "        text-align: right;\n",
       "    }\n",
       "</style>\n",
       "<table border=\"1\" class=\"dataframe\">\n",
       "  <thead>\n",
       "    <tr style=\"text-align: right;\">\n",
       "      <th></th>\n",
       "      <th>date</th>\n",
       "      <th>outlook</th>\n",
       "      <th>wind</th>\n",
       "      <th>playTennis</th>\n",
       "    </tr>\n",
       "  </thead>\n",
       "  <tbody>\n",
       "    <tr>\n",
       "      <th>0</th>\n",
       "      <td>1</td>\n",
       "      <td>Sunny</td>\n",
       "      <td>Weak</td>\n",
       "      <td>No</td>\n",
       "    </tr>\n",
       "    <tr>\n",
       "      <th>7</th>\n",
       "      <td>8</td>\n",
       "      <td>Sunny</td>\n",
       "      <td>Weak</td>\n",
       "      <td>No</td>\n",
       "    </tr>\n",
       "    <tr>\n",
       "      <th>17</th>\n",
       "      <td>18</td>\n",
       "      <td>Rain</td>\n",
       "      <td>Weak</td>\n",
       "      <td>No</td>\n",
       "    </tr>\n",
       "    <tr>\n",
       "      <th>18</th>\n",
       "      <td>19</td>\n",
       "      <td>Sunny</td>\n",
       "      <td>Weak</td>\n",
       "      <td>No</td>\n",
       "    </tr>\n",
       "    <tr>\n",
       "      <th>21</th>\n",
       "      <td>22</td>\n",
       "      <td>Overcast</td>\n",
       "      <td>Weak</td>\n",
       "      <td>No</td>\n",
       "    </tr>\n",
       "    <tr>\n",
       "      <th>24</th>\n",
       "      <td>25</td>\n",
       "      <td>Overcast</td>\n",
       "      <td>Weak</td>\n",
       "      <td>No</td>\n",
       "    </tr>\n",
       "  </tbody>\n",
       "</table>\n",
       "</div>"
      ],
      "text/plain": [
       "    date   outlook  wind playTennis\n",
       "0      1     Sunny  Weak         No\n",
       "7      8     Sunny  Weak         No\n",
       "17    18      Rain  Weak         No\n",
       "18    19     Sunny  Weak         No\n",
       "21    22  Overcast  Weak         No\n",
       "24    25  Overcast  Weak         No"
      ]
     },
     "execution_count": 43,
     "metadata": {},
     "output_type": "execute_result"
    }
   ],
   "source": [
    "# df_no[df_no[\"outlook\"]=='Sunny']\n",
    "df_no[df_no[\"wind\"]=='Weak']"
   ]
  },
  {
   "cell_type": "code",
   "execution_count": 25,
   "metadata": {},
   "outputs": [
    {
     "name": "stdout",
     "output_type": "stream",
     "text": [
      "0.6 0.4\n"
     ]
    }
   ],
   "source": [
    "yes = len(df_yes) / len(df)\n",
    "no = len(df_no) / len(df)"
   ]
  },
  {
   "cell_type": "code",
   "execution_count": 5,
   "metadata": {},
   "outputs": [],
   "source": [
    "sunny_yes = len(df_yes[df_yes[\"outlook\"]=='Sunny']) / len(df_yes)\n",
    "overcast_yes = len(df_yes[df_yes[\"outlook\"]=='Overcast']) / len(df_yes)\n",
    "rain_yes = len(df_yes[df_yes[\"outlook\"]=='Rain']) / len(df_yes)\n",
    "\n",
    "sunny_no = len(df_no[df_no[\"outlook\"]=='Sunny']) / len(df_no)\n",
    "overcast_no = len(df_no[df_no[\"outlook\"]=='Overcast']) / len(df_no)\n",
    "rain_no = len(df_no[df_no[\"outlook\"]=='Rain']) / len(df_no)\n",
    "\n",
    "weak_yes = len(df_yes[df_yes[\"wind\"]=='Weak']) / len(df_yes)\n",
    "strong_yes = len(df_yes[df_yes[\"wind\"]=='Strong']) / len(df_yes)\n",
    "\n",
    "weak_no = len(df_no[df_no[\"wind\"]=='Weak']) / len(df_no)\n",
    "strong_no = len(df_no[df_no[\"wind\"]=='Strong']) / len(df_no) "
   ]
  },
  {
   "cell_type": "code",
   "execution_count": 22,
   "metadata": {},
   "outputs": [],
   "source": [
    "(yes26,no26) = ((sunny_yes*strong_yes*yes),(sunny_no*strong_no*no))\n",
    "(yes27,no27) = ((overcast_yes*weak_yes*yes),(overcast_no*weak_no*no))\n",
    "(yes28,no28) = ((rain_yes*weak_yes*yes),(rain_no*weak_no*no))"
   ]
  },
  {
   "cell_type": "code",
   "execution_count": 24,
   "metadata": {},
   "outputs": [
    {
     "name": "stdout",
     "output_type": "stream",
     "text": [
      "(0.08, 0.06400000000000002)\n",
      "Yes\n",
      "(0.11999999999999998, 0.072)\n",
      "Yes\n",
      "(0.11999999999999998, 0.072)\n",
      "Yes\n"
     ]
    }
   ],
   "source": [
    "for i in [(yes26,no26),(yes27,no27),(yes28,no28)]:\n",
    "    print(i)\n",
    "    if i[0] > i[1]:\n",
    "        print('Yes')\n",
    "    else:\n",
    "        print('No')"
   ]
  },
  {
   "cell_type": "code",
   "execution_count": 49,
   "metadata": {},
   "outputs": [
    {
     "name": "stdout",
     "output_type": "stream",
     "text": [
      "Day 26 (Sunny & Strong) yes/no probabilities: (0.08, 0.06400000000000002). Final classification: YES.\n",
      "Day 27 (Overcast & Weak) yes/no probabilities: (0.11999999999999998, 0.072). Final classification: YES.\n",
      "Day 28 (Rain & Weak) yes/no probabilities: (0.11999999999999998, 0.072). Final classification: YES.\n"
     ]
    }
   ],
   "source": [
    "print(\"Day 26 (Sunny & Strong) yes/no probabilities: (0.08, 0.06400000000000002). Final classification: YES.\")\n",
    "print(\"Day 27 (Overcast & Weak) yes/no probabilities: (0.11999999999999998, 0.072). Final classification: YES.\")\n",
    "print(\"Day 28 (Rain & Weak) yes/no probabilities: (0.11999999999999998, 0.072). Final classification: YES.\")"
   ]
  },
  {
   "cell_type": "code",
   "execution_count": 7,
   "metadata": {},
   "outputs": [],
   "source": [
    "# def naivebayes_probs(lst_of_atts,df_yes,df_no):\n",
    "#     n_outlook_yes = len(df_yes[\"outlook\"])\n",
    "#     for i in lst_of_outlook_atts:\n",
    "#         df_yes[df_yes[\"outlook\"]==i]"
   ]
  },
  {
   "cell_type": "code",
   "execution_count": 8,
   "metadata": {},
   "outputs": [],
   "source": [
    "def probability(n,n_c,p,m):\n",
    "    probability = (n_c + (m * p)) / (n + m)\n",
    "    return probability"
   ]
  },
  {
   "cell_type": "code",
   "execution_count": 9,
   "metadata": {},
   "outputs": [],
   "source": [
    "def probability_of_classification(df_yes,df_no,attribute1,attribute2,p_classification,m):\n",
    "\n",
    "    n_yes = len(df_yes[\"playTennis\"])\n",
    "    n_no = len(df_no[\"playTennis\"])\n",
    "\n",
    "    n_c_yes_1 = len(df_yes[df_yes[\"outlook\"]==attribute1])\n",
    "    n_c_yes_2 = len(df_yes[df_yes[\"wind\"]==attribute2])\n",
    "\n",
    "    n_c_no_1 = len(df_no[df_no[\"outlook\"]==attribute1])\n",
    "    n_c_no_2 = len(df_no[df_no[\"wind\"]==attribute2])\n",
    "\n",
    "    p1 = 1/len(np.unique(df_yes[\"outlook\"]))\n",
    "    p2 = 1/len(np.unique(df_yes[\"wind\"]))\n",
    "    \n",
    "    yes_prob1 = probability(n_yes,n_c_yes_1,p1,m)\n",
    "    yes_prob2 = probability(n_yes,n_c_yes_2,p2,m)\n",
    "    no_prob1 = probability(n_no,n_c_no_1,p1,m)\n",
    "    no_prob2 = probability(n_no,n_c_no_2,p2,m)\n",
    "    print(yes_prob1,yes_prob2,no_prob1,no_prob2)\n",
    "\n",
    "    final_yes_prob = p_classification * yes_prob1 * yes_prob2\n",
    "    final_no_prob = p_classification * no_prob1 * no_prob2\n",
    "\n",
    "    return (final_yes_prob,final_no_prob)"
   ]
  },
  {
   "cell_type": "code",
   "execution_count": 10,
   "metadata": {},
   "outputs": [],
   "source": [
    "# attribute1 = \"Sunny\"\n",
    "# attribute2 = \"Strong\"\n",
    "# n_yes = len(df_yes[\"playTennis\"])\n",
    "# len(df_yes[df_yes[\"outlook\"]==attribute1])\n",
    "# 1/len(np.unique(df_yes[\"wind\"]))\n"
   ]
  },
  {
   "cell_type": "code",
   "execution_count": 11,
   "metadata": {},
   "outputs": [],
   "source": [
    "def final_predicted_classification(date_tuple):\n",
    "    if date_tuple[0] > date_tuple[1]:\n",
    "        final_predicted_classification = 'Yes'\n",
    "    else:\n",
    "        final_predicted_classification = 'No'\n",
    "    return final_predicted_classification"
   ]
  },
  {
   "cell_type": "code",
   "execution_count": 12,
   "metadata": {},
   "outputs": [
    {
     "name": "stdout",
     "output_type": "stream",
     "text": [
      "0.3333333333333333 0.40625 0.3939393939393939 0.4090909090909091\n",
      "0.3333333333333333 0.59375 0.30303030303030304 0.5909090909090909\n",
      "0.3333333333333333 0.59375 0.30303030303030304 0.5909090909090909\n"
     ]
    }
   ],
   "source": [
    "date26 = probability_of_classification(df_yes,df_no,\"Sunny\",\"Strong\",p_classification,m)\n",
    "date27 = probability_of_classification(df_yes,df_no,\"Overcast\",\"Weak\",p_classification,m)\n",
    "date28 = probability_of_classification(df_yes,df_no,\"Rain\",\"Weak\",p_classification,m)"
   ]
  },
  {
   "cell_type": "code",
   "execution_count": 13,
   "metadata": {},
   "outputs": [
    {
     "name": "stdout",
     "output_type": "stream",
     "text": [
      "Day 26: P(A|Yes)=  0.06770833333333333 P(A|No)=  0.08057851239669421\n",
      "Day 27: P(A|Yes)=  0.09895833333333333 P(A|No)=  0.08953168044077135\n",
      "Day 28: P(A|Yes)=  0.09895833333333333 P(A|No)=  0.08953168044077135\n"
     ]
    }
   ],
   "source": [
    "print(\"Day 26: P(A|Yes)= \",date26[0],\"P(A|No)= \",date26[1])\n",
    "print(\"Day 27: P(A|Yes)= \",date27[0],\"P(A|No)= \",date27[1])\n",
    "print(\"Day 28: P(A|Yes)= \",date28[0],\"P(A|No)= \",date28[1])"
   ]
  },
  {
   "cell_type": "code",
   "execution_count": 14,
   "metadata": {},
   "outputs": [],
   "source": [
    "predicted_date26 = final_predicted_classification(date26)\n",
    "predicted_date27 = final_predicted_classification(date27)\n",
    "predicted_date28 = final_predicted_classification(date28)"
   ]
  },
  {
   "cell_type": "code",
   "execution_count": 15,
   "metadata": {},
   "outputs": [
    {
     "name": "stdout",
     "output_type": "stream",
     "text": [
      "Predicted Classification for Date 26:  No\n",
      "Predicted Classification for Date 27:  Yes\n",
      "Predicted Classification for Date 28:  Yes\n"
     ]
    }
   ],
   "source": [
    "print(\"Predicted Classification for Date 26: \",predicted_date26)\n",
    "print(\"Predicted Classification for Date 27: \",predicted_date27)\n",
    "print(\"Predicted Classification for Date 28: \",predicted_date28)"
   ]
  },
  {
   "cell_type": "code",
   "execution_count": 16,
   "metadata": {},
   "outputs": [
    {
     "data": {
      "text/plain": [
       "'Sunny'"
      ]
     },
     "execution_count": 16,
     "metadata": {},
     "output_type": "execute_result"
    }
   ],
   "source": [
    "df.iloc[0][1]"
   ]
  },
  {
   "cell_type": "code",
   "execution_count": 17,
   "metadata": {},
   "outputs": [
    {
     "data": {
      "text/plain": [
       "10"
      ]
     },
     "execution_count": 17,
     "metadata": {},
     "output_type": "execute_result"
    }
   ],
   "source": [
    "len(df_no[\"date\"])"
   ]
  },
  {
   "cell_type": "code",
   "execution_count": 52,
   "metadata": {},
   "outputs": [
    {
     "data": {
      "text/plain": [
       "8.25"
      ]
     },
     "execution_count": 52,
     "metadata": {},
     "output_type": "execute_result"
    }
   ],
   "source": [
    "0.33*25"
   ]
  }
 ],
 "metadata": {
  "kernelspec": {
   "display_name": "Python 3.10.5 64-bit",
   "language": "python",
   "name": "python3"
  },
  "language_info": {
   "codemirror_mode": {
    "name": "ipython",
    "version": 3
   },
   "file_extension": ".py",
   "mimetype": "text/x-python",
   "name": "python",
   "nbconvert_exporter": "python",
   "pygments_lexer": "ipython3",
   "version": "3.10.5"
  },
  "orig_nbformat": 4,
  "vscode": {
   "interpreter": {
    "hash": "aee8b7b246df8f9039afb4144a1f6fd8d2ca17a180786b69acc140d282b71a49"
   }
  }
 },
 "nbformat": 4,
 "nbformat_minor": 2
}
