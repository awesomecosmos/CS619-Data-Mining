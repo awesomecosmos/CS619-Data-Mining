{
 "cells": [
  {
   "cell_type": "code",
   "execution_count": 1,
   "metadata": {},
   "outputs": [],
   "source": [
    "import pandas as pd\n",
    "import numpy as np\n",
    "\n",
    "df = pd.read_csv('hw8_q1.csv')"
   ]
  },
  {
   "cell_type": "code",
   "execution_count": 2,
   "metadata": {},
   "outputs": [
    {
     "data": {
      "text/html": [
       "<div>\n",
       "<style scoped>\n",
       "    .dataframe tbody tr th:only-of-type {\n",
       "        vertical-align: middle;\n",
       "    }\n",
       "\n",
       "    .dataframe tbody tr th {\n",
       "        vertical-align: top;\n",
       "    }\n",
       "\n",
       "    .dataframe thead th {\n",
       "        text-align: right;\n",
       "    }\n",
       "</style>\n",
       "<table border=\"1\" class=\"dataframe\">\n",
       "  <thead>\n",
       "    <tr style=\"text-align: right;\">\n",
       "      <th></th>\n",
       "      <th>date</th>\n",
       "      <th>outlook</th>\n",
       "      <th>wind</th>\n",
       "      <th>playTennis</th>\n",
       "    </tr>\n",
       "  </thead>\n",
       "  <tbody>\n",
       "    <tr>\n",
       "      <th>23</th>\n",
       "      <td>24</td>\n",
       "      <td>Sunny</td>\n",
       "      <td>Strong</td>\n",
       "      <td>Yes</td>\n",
       "    </tr>\n",
       "    <tr>\n",
       "      <th>24</th>\n",
       "      <td>25</td>\n",
       "      <td>Overcast</td>\n",
       "      <td>Weak</td>\n",
       "      <td>No</td>\n",
       "    </tr>\n",
       "    <tr>\n",
       "      <th>25</th>\n",
       "      <td>26</td>\n",
       "      <td>Sunny</td>\n",
       "      <td>Strong</td>\n",
       "      <td>NaN</td>\n",
       "    </tr>\n",
       "    <tr>\n",
       "      <th>26</th>\n",
       "      <td>27</td>\n",
       "      <td>Overcast</td>\n",
       "      <td>Weak</td>\n",
       "      <td>NaN</td>\n",
       "    </tr>\n",
       "    <tr>\n",
       "      <th>27</th>\n",
       "      <td>28</td>\n",
       "      <td>Rain</td>\n",
       "      <td>Weak</td>\n",
       "      <td>NaN</td>\n",
       "    </tr>\n",
       "  </tbody>\n",
       "</table>\n",
       "</div>"
      ],
      "text/plain": [
       "    date   outlook    wind playTennis\n",
       "23    24     Sunny  Strong        Yes\n",
       "24    25  Overcast    Weak         No\n",
       "25    26     Sunny  Strong        NaN\n",
       "26    27  Overcast    Weak        NaN\n",
       "27    28      Rain    Weak        NaN"
      ]
     },
     "execution_count": 2,
     "metadata": {},
     "output_type": "execute_result"
    }
   ],
   "source": [
    "df.tail()"
   ]
  },
  {
   "cell_type": "markdown",
   "metadata": {},
   "source": [
    "We want to predict the classification for Instances #26, 27 and 28, and thus need to calculate the probabilities using the Naive Bayes approach for each of the following scenarios:\n",
    "- Sunny & Strong = P(Sunny|Yes),P(Sunny|No),P(Strong|Yes),P(Strong|No)\n",
    "- Overcast & Weak = P(Overcast|Yes),P(Overcast|No),P(Weak|Yes),P(Weak|No)\n",
    "- Rain & Weak = P(Rain|Yes),P(Rain|No),P(Weak|Yes),P(Weak|No)"
   ]
  },
  {
   "cell_type": "code",
   "execution_count": 3,
   "metadata": {},
   "outputs": [],
   "source": [
    "df_yes = df[df[\"playTennis\"]=='Yes']\n",
    "df_no = df[df[\"playTennis\"]=='No']\n",
    "p_classification = 0.5\n",
    "m = 3"
   ]
  },
  {
   "cell_type": "code",
   "execution_count": 4,
   "metadata": {},
   "outputs": [],
   "source": [
    "def probability(n,n_c,p,m):\n",
    "    probability = (n_c + (m * p)) / (n + m)\n",
    "    return probability"
   ]
  },
  {
   "cell_type": "code",
   "execution_count": 14,
   "metadata": {},
   "outputs": [],
   "source": [
    "def probability_of_classification(df_yes,df_no,attribute1,attribute2,p_classification,m):\n",
    "\n",
    "    n_yes = len(df_yes[\"playTennis\"])\n",
    "    n_c_yes_1 = len(df_yes[df_yes[\"outlook\"]==attribute1])\n",
    "    n_c_yes_2 = len(df_yes[df_yes[\"wind\"]==attribute2])\n",
    "\n",
    "    n_no = len(df_no[\"playTennis\"])\n",
    "    n_c_no_1 = len(df_no[df_no[\"outlook\"]==attribute1])\n",
    "    n_c_no_2 = len(df_no[df_no[\"wind\"]==attribute2])\n",
    "\n",
    "    yes_prob1 = probability(n_yes,n_c_yes_1,p_classification,m)\n",
    "    yes_prob2 = probability(n_yes,n_c_yes_2,p_classification,m)\n",
    "    no_prob1 = probability(n_no,n_c_no_1,p_classification,m)\n",
    "    no_prob2 = probability(n_no,n_c_no_2,p_classification,m)\n",
    "    print(yes_prob1,yes_prob2,no_prob1,no_prob2)\n",
    "\n",
    "    final_yes_prob = p_classification * yes_prob1 * yes_prob2\n",
    "    final_no_prob = p_classification * no_prob1 * no_prob2\n",
    "\n",
    "    return (final_yes_prob,final_no_prob)"
   ]
  },
  {
   "cell_type": "code",
   "execution_count": 15,
   "metadata": {},
   "outputs": [],
   "source": [
    "def final_predicted_classification(date_tuple):\n",
    "    if date_tuple[0] > date_tuple[1]:\n",
    "        final_predicted_classification = 'Yes'\n",
    "    else:\n",
    "        final_predicted_classification = 'No'\n",
    "    return final_predicted_classification"
   ]
  },
  {
   "cell_type": "code",
   "execution_count": 16,
   "metadata": {},
   "outputs": [
    {
     "name": "stdout",
     "output_type": "stream",
     "text": [
      "0.325 0.425 0.5 0.4090909090909091\n",
      "0.425 0.575 0.22727272727272727 0.5909090909090909\n",
      "0.325 0.575 0.4090909090909091 0.5909090909090909\n"
     ]
    }
   ],
   "source": [
    "date26 = probability_of_classification(df_yes,df_no,\"Sunny\",\"Strong\",p_classification,m)\n",
    "date27 = probability_of_classification(df_yes,df_no,\"Overcast\",\"Weak\",p_classification,m)\n",
    "date28 = probability_of_classification(df_yes,df_no,\"Rain\",\"Weak\",p_classification,m)"
   ]
  },
  {
   "cell_type": "code",
   "execution_count": 13,
   "metadata": {},
   "outputs": [
    {
     "name": "stdout",
     "output_type": "stream",
     "text": [
      "Day 26: P(A|Yes)=  0.0690625 P(A|No)=  0.10227272727272728\n",
      "Day 27: P(A|Yes)=  0.12218749999999999 P(A|No)=  0.06714876033057851\n",
      "Day 28: P(A|Yes)=  0.09343749999999999 P(A|No)=  0.12086776859504134\n"
     ]
    }
   ],
   "source": [
    "print(\"Day 26: P(A|Yes)= \",date26[0],\"P(A|No)= \",date26[1])\n",
    "print(\"Day 27: P(A|Yes)= \",date27[0],\"P(A|No)= \",date27[1])\n",
    "print(\"Day 28: P(A|Yes)= \",date28[0],\"P(A|No)= \",date28[1])"
   ]
  },
  {
   "cell_type": "code",
   "execution_count": 8,
   "metadata": {},
   "outputs": [],
   "source": [
    "predicted_date26 = final_predicted_classification(date26)\n",
    "predicted_date27 = final_predicted_classification(date27)\n",
    "predicted_date28 = final_predicted_classification(date28)"
   ]
  },
  {
   "cell_type": "code",
   "execution_count": 9,
   "metadata": {},
   "outputs": [
    {
     "name": "stdout",
     "output_type": "stream",
     "text": [
      "Predicted Classification for Date 26:  No\n",
      "Predicted Classification for Date 27:  Yes\n",
      "Predicted Classification for Date 28:  No\n"
     ]
    }
   ],
   "source": [
    "print(\"Predicted Classification for Date 26: \",predicted_date26)\n",
    "print(\"Predicted Classification for Date 27: \",predicted_date27)\n",
    "print(\"Predicted Classification for Date 28: \",predicted_date28)"
   ]
  },
  {
   "cell_type": "code",
   "execution_count": 10,
   "metadata": {},
   "outputs": [
    {
     "data": {
      "text/plain": [
       "'Sunny'"
      ]
     },
     "execution_count": 10,
     "metadata": {},
     "output_type": "execute_result"
    }
   ],
   "source": [
    "df.iloc[0][1]"
   ]
  },
  {
   "cell_type": "code",
   "execution_count": 11,
   "metadata": {},
   "outputs": [
    {
     "data": {
      "text/plain": [
       "8"
      ]
     },
     "execution_count": 11,
     "metadata": {},
     "output_type": "execute_result"
    }
   ],
   "source": [
    "len(df_no[\"date\"])"
   ]
  },
  {
   "cell_type": "code",
   "execution_count": 12,
   "metadata": {},
   "outputs": [
    {
     "data": {
      "text/html": [
       "<div>\n",
       "<style scoped>\n",
       "    .dataframe tbody tr th:only-of-type {\n",
       "        vertical-align: middle;\n",
       "    }\n",
       "\n",
       "    .dataframe tbody tr th {\n",
       "        vertical-align: top;\n",
       "    }\n",
       "\n",
       "    .dataframe thead th {\n",
       "        text-align: right;\n",
       "    }\n",
       "</style>\n",
       "<table border=\"1\" class=\"dataframe\">\n",
       "  <thead>\n",
       "    <tr style=\"text-align: right;\">\n",
       "      <th></th>\n",
       "      <th>date</th>\n",
       "      <th>outlook</th>\n",
       "      <th>wind</th>\n",
       "      <th>playTennis</th>\n",
       "    </tr>\n",
       "  </thead>\n",
       "  <tbody>\n",
       "    <tr>\n",
       "      <th>0</th>\n",
       "      <td>1</td>\n",
       "      <td>Sunny</td>\n",
       "      <td>Weak</td>\n",
       "      <td>No</td>\n",
       "    </tr>\n",
       "    <tr>\n",
       "      <th>1</th>\n",
       "      <td>2</td>\n",
       "      <td>Sunny</td>\n",
       "      <td>Strong</td>\n",
       "      <td>No</td>\n",
       "    </tr>\n",
       "    <tr>\n",
       "      <th>5</th>\n",
       "      <td>6</td>\n",
       "      <td>Rain</td>\n",
       "      <td>Strong</td>\n",
       "      <td>No</td>\n",
       "    </tr>\n",
       "    <tr>\n",
       "      <th>7</th>\n",
       "      <td>8</td>\n",
       "      <td>Sunny</td>\n",
       "      <td>Weak</td>\n",
       "      <td>No</td>\n",
       "    </tr>\n",
       "    <tr>\n",
       "      <th>13</th>\n",
       "      <td>14</td>\n",
       "      <td>Rain</td>\n",
       "      <td>Strong</td>\n",
       "      <td>No</td>\n",
       "    </tr>\n",
       "    <tr>\n",
       "      <th>17</th>\n",
       "      <td>18</td>\n",
       "      <td>Rain</td>\n",
       "      <td>Weak</td>\n",
       "      <td>No</td>\n",
       "    </tr>\n",
       "    <tr>\n",
       "      <th>18</th>\n",
       "      <td>19</td>\n",
       "      <td>Sunny</td>\n",
       "      <td>Weak</td>\n",
       "      <td>No</td>\n",
       "    </tr>\n",
       "    <tr>\n",
       "      <th>24</th>\n",
       "      <td>25</td>\n",
       "      <td>Overcast</td>\n",
       "      <td>Weak</td>\n",
       "      <td>No</td>\n",
       "    </tr>\n",
       "  </tbody>\n",
       "</table>\n",
       "</div>"
      ],
      "text/plain": [
       "    date   outlook    wind playTennis\n",
       "0      1     Sunny    Weak         No\n",
       "1      2     Sunny  Strong         No\n",
       "5      6      Rain  Strong         No\n",
       "7      8     Sunny    Weak         No\n",
       "13    14      Rain  Strong         No\n",
       "17    18      Rain    Weak         No\n",
       "18    19     Sunny    Weak         No\n",
       "24    25  Overcast    Weak         No"
      ]
     },
     "execution_count": 12,
     "metadata": {},
     "output_type": "execute_result"
    }
   ],
   "source": [
    "df_no"
   ]
  }
 ],
 "metadata": {
  "kernelspec": {
   "display_name": "Python 3.10.5 64-bit",
   "language": "python",
   "name": "python3"
  },
  "language_info": {
   "codemirror_mode": {
    "name": "ipython",
    "version": 3
   },
   "file_extension": ".py",
   "mimetype": "text/x-python",
   "name": "python",
   "nbconvert_exporter": "python",
   "pygments_lexer": "ipython3",
   "version": "3.10.5"
  },
  "orig_nbformat": 4,
  "vscode": {
   "interpreter": {
    "hash": "aee8b7b246df8f9039afb4144a1f6fd8d2ca17a180786b69acc140d282b71a49"
   }
  }
 },
 "nbformat": 4,
 "nbformat_minor": 2
}
