{
 "cells": [
  {
   "cell_type": "code",
   "execution_count": 1,
   "metadata": {},
   "outputs": [],
   "source": [
    "import pandas as pd\n",
    "import numpy as np\n",
    "\n",
    "df = pd.read_csv('hw8_q1.csv')[:25]"
   ]
  },
  {
   "cell_type": "markdown",
   "metadata": {},
   "source": [
    "We want to predict the classification for Instances #26, 27 and 28, and thus need to calculate the probabilities using the Naive Bayes approach for each of the following scenarios:\n",
    "- Sunny & Strong = P(Sunny|Yes),P(Sunny|No),P(Strong|Yes),P(Strong|No)\n",
    "- Overcast & Weak = P(Overcast|Yes),P(Overcast|No),P(Weak|Yes),P(Weak|No)\n",
    "- Rain & Weak = P(Rain|Yes),P(Rain|No),P(Weak|Yes),P(Weak|No)"
   ]
  },
  {
   "cell_type": "code",
   "execution_count": 30,
   "metadata": {},
   "outputs": [],
   "source": [
    "df_yes = df[df[\"playTennis\"]=='Yes']\n",
    "df_no = df[df[\"playTennis\"]=='No']"
   ]
  },
  {
   "cell_type": "code",
   "execution_count": 48,
   "metadata": {},
   "outputs": [
    {
     "data": {
      "text/plain": [
       "0.072"
      ]
     },
     "execution_count": 48,
     "metadata": {},
     "output_type": "execute_result"
    }
   ],
   "source": [
    "(5/15) * (6/15) * (15/25)\n",
    "(5/15) * (9/15) * (15/25)\n",
    "(5/15) * (9/15) * (15/25)\n",
    "(4/10) * (4/10) * (10/25)\n",
    "(3/10) * (6/10) * (10/25)\n",
    "(3/10) * (6/10) * (10/25)"
   ]
  },
  {
   "cell_type": "code",
   "execution_count": 25,
   "metadata": {},
   "outputs": [
    {
     "name": "stdout",
     "output_type": "stream",
     "text": [
      "0.6 0.4\n"
     ]
    }
   ],
   "source": [
    "yes = len(df_yes) / len(df)\n",
    "no = len(df_no) / len(df)"
   ]
  },
  {
   "cell_type": "code",
   "execution_count": 5,
   "metadata": {},
   "outputs": [],
   "source": [
    "sunny_yes = len(df_yes[df_yes[\"outlook\"]=='Sunny']) / len(df_yes)\n",
    "overcast_yes = len(df_yes[df_yes[\"outlook\"]=='Overcast']) / len(df_yes)\n",
    "rain_yes = len(df_yes[df_yes[\"outlook\"]=='Rain']) / len(df_yes)\n",
    "\n",
    "sunny_no = len(df_no[df_no[\"outlook\"]=='Sunny']) / len(df_no)\n",
    "overcast_no = len(df_no[df_no[\"outlook\"]=='Overcast']) / len(df_no)\n",
    "rain_no = len(df_no[df_no[\"outlook\"]=='Rain']) / len(df_no)\n",
    "\n",
    "weak_yes = len(df_yes[df_yes[\"wind\"]=='Weak']) / len(df_yes)\n",
    "strong_yes = len(df_yes[df_yes[\"wind\"]=='Strong']) / len(df_yes)\n",
    "\n",
    "weak_no = len(df_no[df_no[\"wind\"]=='Weak']) / len(df_no)\n",
    "strong_no = len(df_no[df_no[\"wind\"]=='Strong']) / len(df_no) "
   ]
  },
  {
   "cell_type": "code",
   "execution_count": 22,
   "metadata": {},
   "outputs": [],
   "source": [
    "(yes26,no26) = ((sunny_yes*strong_yes*yes),(sunny_no*strong_no*no))\n",
    "(yes27,no27) = ((overcast_yes*weak_yes*yes),(overcast_no*weak_no*no))\n",
    "(yes28,no28) = ((rain_yes*weak_yes*yes),(rain_no*weak_no*no))"
   ]
  },
  {
   "cell_type": "code",
   "execution_count": 24,
   "metadata": {},
   "outputs": [
    {
     "name": "stdout",
     "output_type": "stream",
     "text": [
      "(0.08, 0.06400000000000002)\n",
      "Yes\n",
      "(0.11999999999999998, 0.072)\n",
      "Yes\n",
      "(0.11999999999999998, 0.072)\n",
      "Yes\n"
     ]
    }
   ],
   "source": [
    "for i in [(yes26,no26),(yes27,no27),(yes28,no28)]:\n",
    "    print(i)\n",
    "    if i[0] > i[1]:\n",
    "        print('Yes')\n",
    "    else:\n",
    "        print('No')"
   ]
  },
  {
   "cell_type": "code",
   "execution_count": 49,
   "metadata": {},
   "outputs": [
    {
     "name": "stdout",
     "output_type": "stream",
     "text": [
      "Day 26 (Sunny & Strong) yes/no probabilities: (0.08, 0.06400000000000002). Final classification: YES.\n",
      "Day 27 (Overcast & Weak) yes/no probabilities: (0.11999999999999998, 0.072). Final classification: YES.\n",
      "Day 28 (Rain & Weak) yes/no probabilities: (0.11999999999999998, 0.072). Final classification: YES.\n"
     ]
    }
   ],
   "source": [
    "print(\"Day 26 (Sunny & Strong) yes/no probabilities: (0.08, 0.06400000000000002). Final classification: YES.\")\n",
    "print(\"Day 27 (Overcast & Weak) yes/no probabilities: (0.11999999999999998, 0.072). Final classification: YES.\")\n",
    "print(\"Day 28 (Rain & Weak) yes/no probabilities: (0.11999999999999998, 0.072). Final classification: YES.\")"
   ]
  }
 ],
 "metadata": {
  "kernelspec": {
   "display_name": "Python 3.10.5 64-bit",
   "language": "python",
   "name": "python3"
  },
  "language_info": {
   "codemirror_mode": {
    "name": "ipython",
    "version": 3
   },
   "file_extension": ".py",
   "mimetype": "text/x-python",
   "name": "python",
   "nbconvert_exporter": "python",
   "pygments_lexer": "ipython3",
   "version": "3.10.5"
  },
  "orig_nbformat": 4,
  "vscode": {
   "interpreter": {
    "hash": "aee8b7b246df8f9039afb4144a1f6fd8d2ca17a180786b69acc140d282b71a49"
   }
  }
 },
 "nbformat": 4,
 "nbformat_minor": 2
}
