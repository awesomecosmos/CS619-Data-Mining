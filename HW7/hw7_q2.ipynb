{
 "cells": [
  {
   "cell_type": "code",
   "execution_count": 3,
   "metadata": {},
   "outputs": [],
   "source": [
    "import pandas as pd\n",
    "import numpy as np\n",
    "import matplotlib.pyplot as plt\n",
    "\n",
    "df = pd.read_csv('hw7_q2.csv')"
   ]
  },
  {
   "cell_type": "code",
   "execution_count": 4,
   "metadata": {},
   "outputs": [
    {
     "data": {
      "text/html": [
       "<div>\n",
       "<style scoped>\n",
       "    .dataframe tbody tr th:only-of-type {\n",
       "        vertical-align: middle;\n",
       "    }\n",
       "\n",
       "    .dataframe tbody tr th {\n",
       "        vertical-align: top;\n",
       "    }\n",
       "\n",
       "    .dataframe thead th {\n",
       "        text-align: right;\n",
       "    }\n",
       "</style>\n",
       "<table border=\"1\" class=\"dataframe\">\n",
       "  <thead>\n",
       "    <tr style=\"text-align: right;\">\n",
       "      <th></th>\n",
       "      <th>x</th>\n",
       "      <th>y</th>\n",
       "    </tr>\n",
       "  </thead>\n",
       "  <tbody>\n",
       "    <tr>\n",
       "      <th>0</th>\n",
       "      <td>2</td>\n",
       "      <td>10</td>\n",
       "    </tr>\n",
       "    <tr>\n",
       "      <th>1</th>\n",
       "      <td>2</td>\n",
       "      <td>5</td>\n",
       "    </tr>\n",
       "    <tr>\n",
       "      <th>2</th>\n",
       "      <td>8</td>\n",
       "      <td>4</td>\n",
       "    </tr>\n",
       "    <tr>\n",
       "      <th>3</th>\n",
       "      <td>5</td>\n",
       "      <td>8</td>\n",
       "    </tr>\n",
       "    <tr>\n",
       "      <th>4</th>\n",
       "      <td>7</td>\n",
       "      <td>5</td>\n",
       "    </tr>\n",
       "    <tr>\n",
       "      <th>5</th>\n",
       "      <td>6</td>\n",
       "      <td>4</td>\n",
       "    </tr>\n",
       "    <tr>\n",
       "      <th>6</th>\n",
       "      <td>1</td>\n",
       "      <td>2</td>\n",
       "    </tr>\n",
       "    <tr>\n",
       "      <th>7</th>\n",
       "      <td>4</td>\n",
       "      <td>9</td>\n",
       "    </tr>\n",
       "  </tbody>\n",
       "</table>\n",
       "</div>"
      ],
      "text/plain": [
       "   x   y\n",
       "0  2  10\n",
       "1  2   5\n",
       "2  8   4\n",
       "3  5   8\n",
       "4  7   5\n",
       "5  6   4\n",
       "6  1   2\n",
       "7  4   9"
      ]
     },
     "execution_count": 4,
     "metadata": {},
     "output_type": "execute_result"
    }
   ],
   "source": [
    "df"
   ]
  },
  {
   "cell_type": "code",
   "execution_count": null,
   "metadata": {},
   "outputs": [],
   "source": [
    "fig, ax = plt.subplots(2, 2, sharex=True, sharey=False, figsize=(8, 8), dpi=300)\n",
    "\n",
    "#row=0, col=0\n",
    "ax[0, 0].plot(x,df[\"tr_min_size\"],color=\"dodgerblue\",alpha=0.5,label=\"min\") \n",
    "ax[0, 0].plot(x,df[\"tr_max_size\"],color=\"limegreen\",alpha=0.5,label=\"max\")\n",
    "ax[0, 0].plot(x,df[\"tr_mean_size\"],color=\"r\",label=\"mean\")\n",
    "ax[0, 0].grid(True)\n",
    "ax[0, 0].set_ylim([0, 20])\n",
    "ax[0, 0].set_xlabel(\"training test size (%)\")\n",
    "ax[0, 0].set_ylabel(\"trained data - tree size\")\n",
    "ax[0, 0].set_title(\"Trained Data - Tree Size\")\n",
    "\n",
    "#row=0, col=1\n",
    "ax[0, 1].plot(x,df[\"te_min_size\"],color=\"dodgerblue\",alpha=0.5)\n",
    "ax[0, 1].plot(x,df[\"te_max_size\"],color=\"limegreen\",alpha=0.5)\n",
    "ax[0, 1].plot(x,df[\"te_mean_size\"],color=\"r\")\n",
    "ax[0, 1].grid(True)\n",
    "ax[0, 1].set_ylim([0, 20])\n",
    "ax[0, 1].set_xlabel(\"training test size (%)\")\n",
    "# ax[0, 1].set_ylabel(\"tested data - tree size\")\n",
    "ax[0, 1].set_title(\"Tested Data - Tree Size\")\n",
    "\n",
    "#row=1, col=0\n",
    "ax[1, 0].plot(x,df[\"tr_min_acc\"],color=\"dodgerblue\",alpha=0.5,label=\"min\") #row=0, col=0\n",
    "ax[1, 0].plot(x,df[\"tr_max_acc\"],color=\"limegreen\",alpha=0.5,label=\"max\")\n",
    "ax[1, 0].plot(x,df[\"tr_mean_acc\"],color=\"r\",label=\"mean\")\n",
    "ax[1, 0].grid(True)\n",
    "ax[1, 0].set_ylim(80, 101)\n",
    "ax[1, 0].set_xlabel(\"training test size (%)\")\n",
    "ax[1, 0].set_ylabel(\"training accuracy (%)\")\n",
    "ax[1, 0].set_title(\"Trained Data Accuracy\")\n",
    "ax[1, 0].legend()\n",
    "\n",
    "#row=1, col=1\n",
    "ax[1, 1].plot(x,df[\"te_min_acc\"],color=\"dodgerblue\",alpha=0.5)\n",
    "ax[1, 1].plot(x,df[\"te_max_acc\"],color=\"limegreen\",alpha=0.5)\n",
    "ax[1, 1].plot(x,df[\"te_mean_acc\"],color=\"r\")\n",
    "ax[1, 1].grid(True)\n",
    "ax[1, 1].set_ylim(80, 101)\n",
    "ax[1, 1].set_xlabel(\"training test size (%)\")\n",
    "ax[1, 1].set_ylabel(\"testing accuracy (%)\")\n",
    "ax[1, 1].set_title(\"Tested Data Accuracy\")\n",
    "plt.savefig(\"hw4_q2.jpg\",dpi=300)"
   ]
  }
 ],
 "metadata": {
  "kernelspec": {
   "display_name": "Python 3.10.5 64-bit",
   "language": "python",
   "name": "python3"
  },
  "language_info": {
   "codemirror_mode": {
    "name": "ipython",
    "version": 3
   },
   "file_extension": ".py",
   "mimetype": "text/x-python",
   "name": "python",
   "nbconvert_exporter": "python",
   "pygments_lexer": "ipython3",
   "version": "3.10.5"
  },
  "orig_nbformat": 4,
  "vscode": {
   "interpreter": {
    "hash": "aee8b7b246df8f9039afb4144a1f6fd8d2ca17a180786b69acc140d282b71a49"
   }
  }
 },
 "nbformat": 4,
 "nbformat_minor": 2
}
