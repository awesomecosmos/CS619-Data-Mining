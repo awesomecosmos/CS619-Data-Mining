{
 "cells": [
  {
   "cell_type": "code",
   "execution_count": 30,
   "metadata": {},
   "outputs": [],
   "source": [
    "import pandas as pd\n",
    "import numpy as np\n",
    "import matplotlib.pyplot as plt\n",
    "\n",
    "df = pd.read_csv('hw7.csv')"
   ]
  },
  {
   "cell_type": "code",
   "execution_count": 33,
   "metadata": {},
   "outputs": [
    {
     "data": {
      "image/png": "[encoded data removed]",
      "text/plain": [
       "<Figure size 432x288 with 1 Axes>"
      ]
     },
     "metadata": {
      "needs_background": "light"
     },
     "output_type": "display_data"
    }
   ],
   "source": [
    "plt.scatter(df[\"x\"],df[\"y\"])\n",
    "plt.grid()"
   ]
  },
  {
   "cell_type": "code",
   "execution_count": 3,
   "metadata": {},
   "outputs": [],
   "source": [
    "def euclidian_distance(df,center_x,center_y):\n",
    "    df2 = pd.DataFrame(columns = [\"center_x\",\"center_y\",\"x\",\"y\",\"d\"])\n",
    "    for i in range(len(df[\"x\"])):\n",
    "        d_x = (center_x - df[\"x\"][i]) ** 2\n",
    "        d_y = (center_y - df[\"y\"][i]) ** 2\n",
    "        distance_diff_squared = d_x + d_y\n",
    "        diff = np.sqrt(distance_diff_squared)\n",
    "        df2.loc[i] = [center_x,center_y,df[\"x\"][i],df[\"y\"][i],diff]\n",
    "    return df2"
   ]
  },
  {
   "cell_type": "code",
   "execution_count": 4,
   "metadata": {},
   "outputs": [],
   "source": [
    "initial_cluster_1 = euclidian_distance(df,2,10).rename(columns={\"d\":\"(2,10)\"})#.sort_values(by=\"d\",ascending=True)\n",
    "initial_cluster_2 = euclidian_distance(df,5,8).rename(columns={\"d\": \"(5,8)\"})#.sort_values(by=\"d\",ascending=True)\n",
    "initial_cluster_3 = euclidian_distance(df,1,2).rename(columns={\"d\":\"(1,2)\"})#.sort_values(by=\"d\",ascending=True)"
   ]
  },
  {
   "cell_type": "code",
   "execution_count": 24,
   "metadata": {},
   "outputs": [
    {
     "data": {
      "text/html": [
       "<div>\n",
       "<style scoped>\n",
       "    .dataframe tbody tr th:only-of-type {\n",
       "        vertical-align: middle;\n",
       "    }\n",
       "\n",
       "    .dataframe tbody tr th {\n",
       "        vertical-align: top;\n",
       "    }\n",
       "\n",
       "    .dataframe thead th {\n",
       "        text-align: right;\n",
       "    }\n",
       "</style>\n",
       "<table border=\"1\" class=\"dataframe\">\n",
       "  <thead>\n",
       "    <tr style=\"text-align: right;\">\n",
       "      <th></th>\n",
       "      <th>(2,10)</th>\n",
       "      <th>(5,8)</th>\n",
       "      <th>(1,2)</th>\n",
       "    </tr>\n",
       "  </thead>\n",
       "  <tbody>\n",
       "    <tr>\n",
       "      <th>(2,10)</th>\n",
       "      <td>0.000000</td>\n",
       "      <td>3.605551</td>\n",
       "      <td>8.062258</td>\n",
       "    </tr>\n",
       "    <tr>\n",
       "      <th>(2,5)</th>\n",
       "      <td>5.000000</td>\n",
       "      <td>4.242641</td>\n",
       "      <td>3.162278</td>\n",
       "    </tr>\n",
       "    <tr>\n",
       "      <th>(8,4)</th>\n",
       "      <td>8.485281</td>\n",
       "      <td>5.000000</td>\n",
       "      <td>7.280110</td>\n",
       "    </tr>\n",
       "    <tr>\n",
       "      <th>(5,8)</th>\n",
       "      <td>3.605551</td>\n",
       "      <td>0.000000</td>\n",
       "      <td>7.211103</td>\n",
       "    </tr>\n",
       "    <tr>\n",
       "      <th>(7,5)</th>\n",
       "      <td>7.071068</td>\n",
       "      <td>3.605551</td>\n",
       "      <td>6.708204</td>\n",
       "    </tr>\n",
       "    <tr>\n",
       "      <th>(6,4)</th>\n",
       "      <td>7.211103</td>\n",
       "      <td>4.123106</td>\n",
       "      <td>5.385165</td>\n",
       "    </tr>\n",
       "    <tr>\n",
       "      <th>(1,2)</th>\n",
       "      <td>8.062258</td>\n",
       "      <td>7.211103</td>\n",
       "      <td>0.000000</td>\n",
       "    </tr>\n",
       "    <tr>\n",
       "      <th>(4,9)</th>\n",
       "      <td>2.236068</td>\n",
       "      <td>1.414214</td>\n",
       "      <td>7.615773</td>\n",
       "    </tr>\n",
       "  </tbody>\n",
       "</table>\n",
       "</div>"
      ],
      "text/plain": [
       "          (2,10)     (5,8)     (1,2)\n",
       "(2,10)  0.000000  3.605551  8.062258\n",
       "(2,5)   5.000000  4.242641  3.162278\n",
       "(8,4)   8.485281  5.000000  7.280110\n",
       "(5,8)   3.605551  0.000000  7.211103\n",
       "(7,5)   7.071068  3.605551  6.708204\n",
       "(6,4)   7.211103  4.123106  5.385165\n",
       "(1,2)   8.062258  7.211103  0.000000\n",
       "(4,9)   2.236068  1.414214  7.615773"
      ]
     },
     "execution_count": 24,
     "metadata": {},
     "output_type": "execute_result"
    }
   ],
   "source": [
    "new_df = pd.concat([initial_cluster_1[\"(2,10)\"],initial_cluster_2[\"(5,8)\"],initial_cluster_3[\"(1,2)\"]],axis=1)\n",
    "new_df.rename(index={0: \"(2,10)\", 1: \"(2,5)\", 2: \"(8,4)\",3:\"(5,8)\",4:\"(7,5)\",5:\"(6,4)\",6:\"(1,2)\",7:\"(4,9)\"})"
   ]
  },
  {
   "cell_type": "code",
   "execution_count": 34,
   "metadata": {},
   "outputs": [
    {
     "name": "stderr",
     "output_type": "stream",
     "text": [
      "/var/folders/n9/3mjn__fd1xd66lc1zh9nlj0h0000gp/T/ipykernel_5519/973875848.py:7: SettingWithCopyWarning: \n",
      "A value is trying to be set on a copy of a slice from a DataFrame\n",
      "\n",
      "See the caveats in the documentation: https://pandas.pydata.org/pandas-docs/stable/user_guide/indexing.html#returning-a-view-versus-a-copy\n",
      "  new_df[\"initial_cluster\"][i] = cols[rel_index]\n"
     ]
    }
   ],
   "source": [
    "new_df[\"initial_cluster\"] = 0\n",
    "cols = new_df.columns\n",
    "\n",
    "for i in range(len(new_df[\"(2,10)\"])):\n",
    "    min_val = min(new_df.iloc[i][:3])\n",
    "    rel_index = np.where(new_df.iloc[i]==min_val)[0][0]\n",
    "    new_df[\"initial_cluster\"][i] = cols[rel_index]"
   ]
  },
  {
   "cell_type": "code",
   "execution_count": 43,
   "metadata": {},
   "outputs": [
    {
     "data": {
      "text/html": [
       "<div>\n",
       "<style scoped>\n",
       "    .dataframe tbody tr th:only-of-type {\n",
       "        vertical-align: middle;\n",
       "    }\n",
       "\n",
       "    .dataframe tbody tr th {\n",
       "        vertical-align: top;\n",
       "    }\n",
       "\n",
       "    .dataframe thead th {\n",
       "        text-align: right;\n",
       "    }\n",
       "</style>\n",
       "<table border=\"1\" class=\"dataframe\">\n",
       "  <thead>\n",
       "    <tr style=\"text-align: right;\">\n",
       "      <th></th>\n",
       "      <th>(2,10)</th>\n",
       "      <th>(5,8)</th>\n",
       "      <th>(1,2)</th>\n",
       "      <th>initial_cluster</th>\n",
       "      <th>x</th>\n",
       "      <th>y</th>\n",
       "    </tr>\n",
       "  </thead>\n",
       "  <tbody>\n",
       "    <tr>\n",
       "      <th>0</th>\n",
       "      <td>0.000000</td>\n",
       "      <td>3.605551</td>\n",
       "      <td>8.062258</td>\n",
       "      <td>(2,10)</td>\n",
       "      <td>2</td>\n",
       "      <td>10</td>\n",
       "    </tr>\n",
       "    <tr>\n",
       "      <th>1</th>\n",
       "      <td>5.000000</td>\n",
       "      <td>4.242641</td>\n",
       "      <td>3.162278</td>\n",
       "      <td>(1,2)</td>\n",
       "      <td>2</td>\n",
       "      <td>5</td>\n",
       "    </tr>\n",
       "    <tr>\n",
       "      <th>2</th>\n",
       "      <td>8.485281</td>\n",
       "      <td>5.000000</td>\n",
       "      <td>7.280110</td>\n",
       "      <td>(5,8)</td>\n",
       "      <td>8</td>\n",
       "      <td>4</td>\n",
       "    </tr>\n",
       "    <tr>\n",
       "      <th>3</th>\n",
       "      <td>3.605551</td>\n",
       "      <td>0.000000</td>\n",
       "      <td>7.211103</td>\n",
       "      <td>(5,8)</td>\n",
       "      <td>5</td>\n",
       "      <td>8</td>\n",
       "    </tr>\n",
       "    <tr>\n",
       "      <th>4</th>\n",
       "      <td>7.071068</td>\n",
       "      <td>3.605551</td>\n",
       "      <td>6.708204</td>\n",
       "      <td>(5,8)</td>\n",
       "      <td>7</td>\n",
       "      <td>5</td>\n",
       "    </tr>\n",
       "    <tr>\n",
       "      <th>5</th>\n",
       "      <td>7.211103</td>\n",
       "      <td>4.123106</td>\n",
       "      <td>5.385165</td>\n",
       "      <td>(5,8)</td>\n",
       "      <td>6</td>\n",
       "      <td>4</td>\n",
       "    </tr>\n",
       "    <tr>\n",
       "      <th>6</th>\n",
       "      <td>8.062258</td>\n",
       "      <td>7.211103</td>\n",
       "      <td>0.000000</td>\n",
       "      <td>(1,2)</td>\n",
       "      <td>1</td>\n",
       "      <td>2</td>\n",
       "    </tr>\n",
       "    <tr>\n",
       "      <th>7</th>\n",
       "      <td>2.236068</td>\n",
       "      <td>1.414214</td>\n",
       "      <td>7.615773</td>\n",
       "      <td>(5,8)</td>\n",
       "      <td>4</td>\n",
       "      <td>9</td>\n",
       "    </tr>\n",
       "  </tbody>\n",
       "</table>\n",
       "</div>"
      ],
      "text/plain": [
       "     (2,10)     (5,8)     (1,2) initial_cluster  x   y\n",
       "0  0.000000  3.605551  8.062258          (2,10)  2  10\n",
       "1  5.000000  4.242641  3.162278           (1,2)  2   5\n",
       "2  8.485281  5.000000  7.280110           (5,8)  8   4\n",
       "3  3.605551  0.000000  7.211103           (5,8)  5   8\n",
       "4  7.071068  3.605551  6.708204           (5,8)  7   5\n",
       "5  7.211103  4.123106  5.385165           (5,8)  6   4\n",
       "6  8.062258  7.211103  0.000000           (1,2)  1   2\n",
       "7  2.236068  1.414214  7.615773           (5,8)  4   9"
      ]
     },
     "execution_count": 43,
     "metadata": {},
     "output_type": "execute_result"
    }
   ],
   "source": [
    "new_df2 = pd.concat([new_df,df[\"x\"],df[\"y\"]],axis=1)\n",
    "new_df2"
   ]
  },
  {
   "cell_type": "code",
   "execution_count": 47,
   "metadata": {},
   "outputs": [],
   "source": [
    "final_cluster1 = [[],[]]\n",
    "final_cluster2 = [[],[]]\n",
    "final_cluster3 = [[],[]]\n",
    "\n",
    "for i in range(len(new_df2[\"initial_cluster\"])):\n",
    "    if new_df2[\"initial_cluster\"][i] == \"(2,10)\":\n",
    "        final_cluster1[0].append(new_df2[\"x\"][i])\n",
    "        final_cluster1[1].append(new_df2[\"y\"][i])\n",
    "    elif new_df2[\"initial_cluster\"][i] == \"(5,8)\":\n",
    "        final_cluster2[0].append(new_df2[\"x\"][i])\n",
    "        final_cluster2[1].append(new_df2[\"y\"][i])\n",
    "    else:\n",
    "        final_cluster3[0].append(new_df2[\"x\"][i])\n",
    "        final_cluster3[1].append(new_df2[\"y\"][i])"
   ]
  },
  {
   "cell_type": "code",
   "execution_count": 56,
   "metadata": {},
   "outputs": [
    {
     "name": "stdout",
     "output_type": "stream",
     "text": [
      "[2.0, 10.0]\n"
     ]
    }
   ],
   "source": [
    "final_final_cluster1 = [np.mean(final_cluster1[0]),np.mean(final_cluster1[1])]\n",
    "final_final_cluster2 = [np.mean(final_cluster2[0]),np.mean(final_cluster2[1])]\n",
    "final_final_cluster3 = [np.mean(final_cluster3[0]),np.mean(final_cluster3[1])]"
   ]
  },
  {
   "cell_type": "code",
   "execution_count": 79,
   "metadata": {},
   "outputs": [
    {
     "name": "stdout",
     "output_type": "stream",
     "text": [
      "[2.0, 10.0]\n",
      "[6.0, 6.0]\n",
      "[1.5, 3.5]\n"
     ]
    }
   ],
   "source": [
    "print(final_final_cluster1)\n",
    "print(final_final_cluster2)\n",
    "print(final_final_cluster3)"
   ]
  },
  {
   "cell_type": "code",
   "execution_count": 61,
   "metadata": {},
   "outputs": [],
   "source": [
    "final_final_final_cluster1 = euclidian_distance(df,final_final_cluster1[0],final_final_cluster1[1]).rename(columns={\"d\":\"(2,10)\"})\n",
    "final_final_final_cluster2 = euclidian_distance(df,final_final_cluster2[0],final_final_cluster2[1]).rename(columns={\"d\":\"(5,8)\"})\n",
    "final_final_final_cluster3 = euclidian_distance(df,final_final_cluster3[0],final_final_cluster3[1]).rename(columns={\"d\":\"(1,2)\"})"
   ]
  },
  {
   "cell_type": "code",
   "execution_count": 70,
   "metadata": {},
   "outputs": [
    {
     "name": "stderr",
     "output_type": "stream",
     "text": [
      "/var/folders/n9/3mjn__fd1xd66lc1zh9nlj0h0000gp/T/ipykernel_5519/4035228119.py:10: SettingWithCopyWarning: \n",
      "A value is trying to be set on a copy of a slice from a DataFrame\n",
      "\n",
      "See the caveats in the documentation: https://pandas.pydata.org/pandas-docs/stable/user_guide/indexing.html#returning-a-view-versus-a-copy\n",
      "  new_df3[\"final_cluster\"][i] = cols[rel_index]\n"
     ]
    }
   ],
   "source": [
    "new_df3 = pd.concat([final_final_final_cluster1[\"(2,10)\"],final_final_final_cluster2[\"(5,8)\"],final_final_final_cluster3[\"(1,2)\"]],axis=1)\n",
    "new_df3.rename(index={0: \"(2,10)\", 1: \"(2,5)\", 2: \"(8,4)\",3:\"(5,8)\",4:\"(7,5)\",5:\"(6,4)\",6:\"(1,2)\",7:\"(4,9)\"})\n",
    "\n",
    "new_df3[\"final_cluster\"] = 0\n",
    "cols = new_df3.columns\n",
    "\n",
    "for i in range(len(new_df3[\"(2,10)\"])):\n",
    "    min_val = min(new_df3.iloc[i][:3])\n",
    "    rel_index = np.where(new_df3.iloc[i]==min_val)[0][0]\n",
    "    new_df3[\"final_cluster\"][i] = cols[rel_index]"
   ]
  },
  {
   "cell_type": "code",
   "execution_count": 76,
   "metadata": {},
   "outputs": [
    {
     "data": {
      "text/html": [
       "<div>\n",
       "<style scoped>\n",
       "    .dataframe tbody tr th:only-of-type {\n",
       "        vertical-align: middle;\n",
       "    }\n",
       "\n",
       "    .dataframe tbody tr th {\n",
       "        vertical-align: top;\n",
       "    }\n",
       "\n",
       "    .dataframe thead th {\n",
       "        text-align: right;\n",
       "    }\n",
       "</style>\n",
       "<table border=\"1\" class=\"dataframe\">\n",
       "  <thead>\n",
       "    <tr style=\"text-align: right;\">\n",
       "      <th></th>\n",
       "      <th>initial_cluster</th>\n",
       "      <th>final_cluster</th>\n",
       "    </tr>\n",
       "  </thead>\n",
       "  <tbody>\n",
       "    <tr>\n",
       "      <th>(2,10)</th>\n",
       "      <td>(2,10)</td>\n",
       "      <td>(2,10)</td>\n",
       "    </tr>\n",
       "    <tr>\n",
       "      <th>(2,5)</th>\n",
       "      <td>(1,2)</td>\n",
       "      <td>(1,2)</td>\n",
       "    </tr>\n",
       "    <tr>\n",
       "      <th>(8,4)</th>\n",
       "      <td>(5,8)</td>\n",
       "      <td>(5,8)</td>\n",
       "    </tr>\n",
       "    <tr>\n",
       "      <th>(5,8)</th>\n",
       "      <td>(5,8)</td>\n",
       "      <td>(5,8)</td>\n",
       "    </tr>\n",
       "    <tr>\n",
       "      <th>(7,5)</th>\n",
       "      <td>(5,8)</td>\n",
       "      <td>(5,8)</td>\n",
       "    </tr>\n",
       "    <tr>\n",
       "      <th>(6,4)</th>\n",
       "      <td>(5,8)</td>\n",
       "      <td>(5,8)</td>\n",
       "    </tr>\n",
       "    <tr>\n",
       "      <th>(1,2)</th>\n",
       "      <td>(1,2)</td>\n",
       "      <td>(1,2)</td>\n",
       "    </tr>\n",
       "    <tr>\n",
       "      <th>(4,9)</th>\n",
       "      <td>(5,8)</td>\n",
       "      <td>(2,10)</td>\n",
       "    </tr>\n",
       "  </tbody>\n",
       "</table>\n",
       "</div>"
      ],
      "text/plain": [
       "       initial_cluster final_cluster\n",
       "(2,10)          (2,10)        (2,10)\n",
       "(2,5)            (1,2)         (1,2)\n",
       "(8,4)            (5,8)         (5,8)\n",
       "(5,8)            (5,8)         (5,8)\n",
       "(7,5)            (5,8)         (5,8)\n",
       "(6,4)            (5,8)         (5,8)\n",
       "(1,2)            (1,2)         (1,2)\n",
       "(4,9)            (5,8)        (2,10)"
      ]
     },
     "execution_count": 76,
     "metadata": {},
     "output_type": "execute_result"
    }
   ],
   "source": [
    "final_df = pd.concat([new_df[\"initial_cluster\"],new_df3[\"final_cluster\"]],axis=1)\n",
    "final_df.rename(index={0: \"(2,10)\", 1: \"(2,5)\", 2: \"(8,4)\",3:\"(5,8)\",4:\"(7,5)\",5:\"(6,4)\",6:\"(1,2)\",7:\"(4,9)\"})"
   ]
  },
  {
   "cell_type": "code",
   "execution_count": 77,
   "metadata": {},
   "outputs": [
    {
     "data": {
      "text/html": [
       "<div>\n",
       "<style scoped>\n",
       "    .dataframe tbody tr th:only-of-type {\n",
       "        vertical-align: middle;\n",
       "    }\n",
       "\n",
       "    .dataframe tbody tr th {\n",
       "        vertical-align: top;\n",
       "    }\n",
       "\n",
       "    .dataframe thead th {\n",
       "        text-align: right;\n",
       "    }\n",
       "</style>\n",
       "<table border=\"1\" class=\"dataframe\">\n",
       "  <thead>\n",
       "    <tr style=\"text-align: right;\">\n",
       "      <th></th>\n",
       "      <th>initial_cluster</th>\n",
       "      <th>final_cluster</th>\n",
       "    </tr>\n",
       "  </thead>\n",
       "  <tbody>\n",
       "    <tr>\n",
       "      <th>0</th>\n",
       "      <td>(2,10)</td>\n",
       "      <td>(2,10)</td>\n",
       "    </tr>\n",
       "    <tr>\n",
       "      <th>1</th>\n",
       "      <td>(1,2)</td>\n",
       "      <td>(1,2)</td>\n",
       "    </tr>\n",
       "    <tr>\n",
       "      <th>2</th>\n",
       "      <td>(5,8)</td>\n",
       "      <td>(5,8)</td>\n",
       "    </tr>\n",
       "    <tr>\n",
       "      <th>3</th>\n",
       "      <td>(5,8)</td>\n",
       "      <td>(5,8)</td>\n",
       "    </tr>\n",
       "    <tr>\n",
       "      <th>4</th>\n",
       "      <td>(5,8)</td>\n",
       "      <td>(5,8)</td>\n",
       "    </tr>\n",
       "    <tr>\n",
       "      <th>5</th>\n",
       "      <td>(5,8)</td>\n",
       "      <td>(5,8)</td>\n",
       "    </tr>\n",
       "    <tr>\n",
       "      <th>6</th>\n",
       "      <td>(1,2)</td>\n",
       "      <td>(1,2)</td>\n",
       "    </tr>\n",
       "    <tr>\n",
       "      <th>7</th>\n",
       "      <td>(5,8)</td>\n",
       "      <td>(2,10)</td>\n",
       "    </tr>\n",
       "  </tbody>\n",
       "</table>\n",
       "</div>"
      ],
      "text/plain": [
       "  initial_cluster final_cluster\n",
       "0          (2,10)        (2,10)\n",
       "1           (1,2)         (1,2)\n",
       "2           (5,8)         (5,8)\n",
       "3           (5,8)         (5,8)\n",
       "4           (5,8)         (5,8)\n",
       "5           (5,8)         (5,8)\n",
       "6           (1,2)         (1,2)\n",
       "7           (5,8)        (2,10)"
      ]
     },
     "execution_count": 77,
     "metadata": {},
     "output_type": "execute_result"
    }
   ],
   "source": [
    "final_df"
   ]
  }
 ],
 "metadata": {
  "kernelspec": {
   "display_name": "Python 3.10.5 64-bit",
   "language": "python",
   "name": "python3"
  },
  "language_info": {
   "codemirror_mode": {
    "name": "ipython",
    "version": 3
   },
   "file_extension": ".py",
   "mimetype": "text/x-python",
   "name": "python",
   "nbconvert_exporter": "python",
   "pygments_lexer": "ipython3",
   "version": "3.10.5"
  },
  "orig_nbformat": 4,
  "vscode": {
   "interpreter": {
    "hash": "aee8b7b246df8f9039afb4144a1f6fd8d2ca17a180786b69acc140d282b71a49"
   }
  }
 },
 "nbformat": 4,
 "nbformat_minor": 2
}
